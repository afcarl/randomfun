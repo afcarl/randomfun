{
 "cells": [
  {
   "cell_type": "code",
   "execution_count": 195,
   "metadata": {},
   "outputs": [],
   "source": [
    "import torch\n",
    "from torch.autograd import Variable\n",
    "from torch.autograd import gradcheck\n",
    "import numpy as np\n",
    "import matplotlib.pyplot as plt\n",
    "\n",
    "%matplotlib inline"
   ]
  },
  {
   "cell_type": "markdown",
   "metadata": {},
   "source": [
    "# Introduction\n",
    "\n",
    "Let's say y = f(x_1, x_2, ..., x_n)\n",
    "If f is a mathematical function of x_1, x_2, x_3, ..., x_n then we can wire up a neural network to try to find this function given some examples of (x_1, x_2, ...., x_n, y) "
   ]
  },
  {
   "cell_type": "markdown",
   "metadata": {},
   "source": [
    "# 1st: Normal Equation Method"
   ]
  },
  {
   "cell_type": "code",
   "execution_count": 323,
   "metadata": {},
   "outputs": [
    {
     "name": "stdout",
     "output_type": "stream",
     "text": [
      "W :  [ -1.49279111e-14   2.00000000e+00   2.43350714e-15  -1.04209881e-16]\n",
      "Predicted Y :  [  0.2   2.    4.    6.   -8.   50. ]\n",
      "RMS loss :  1.1242258769e-14\n"
     ]
    }
   ],
   "source": [
    "# Let's try to find the equation y = 2 * x \n",
    "# We have 6 examples:- (x,y) = (0.1,0.2), (1,2), (2, 4), (3, 6), (-4, -8), (25, 50)\n",
    "# Let's assume y is a linear combination of the features x, x^2, x^3\n",
    "# We know that Normal Equation gives us the exact solution so let's first use that\n",
    "\n",
    "N = 6\n",
    "x = np.array([0.1, 1, 2, 3, -4, 25])\n",
    "y = np.array([0.2, 2, 4, 6, -8, 50])\n",
    "x_2 = x**2\n",
    "x_3 = x**3\n",
    "\n",
    "X = np.ones((N, 4))\n",
    "X[:,1] = x\n",
    "X[:,2] = x_2\n",
    "X[:,3] = x_3\n",
    "\n",
    "_, D = np.shape(X)\n",
    "regularization_strength = 0.0\n",
    "XtX = (X.T).dot(X)\n",
    "I = np.eye(D, dtype=float)\n",
    "XtX_RI = XtX + regularization_strength*I\n",
    "XtY = (X.T).dot(y)\n",
    "w = np.linalg.solve(XtX_RI, XtY)\n",
    "y_pred = X.dot(w)\n",
    "loss = np.sqrt(np.mean((y_pred-y)**2))\n",
    "# As expected w ~ [0 2 0 0]\n",
    "print(\"W : \", w)\n",
    "print(\"Predicted Y : \", y_pred)\n",
    "print(\"RMS loss : \", loss)"
   ]
  },
  {
   "attachments": {
    "NeuralEquationFinder_Part_1.png": {
     "image/png": "[encoded data removed]"
    }
   },
   "cell_type": "markdown",
   "metadata": {},
   "source": [
    "# 2nd: Neural Network Approach\n",
    "![NeuralEquationFinder_Part_1.png](attachment:NeuralEquationFinder_Part_1.png)"
   ]
  },
  {
   "cell_type": "code",
   "execution_count": 555,
   "metadata": {},
   "outputs": [],
   "source": [
    "# Setup the training and test tensors\n",
    "# Let's generate 400 examples\n",
    "N = 400\n",
    "x = np.random.uniform(low=-75, high=100, size=N)\n",
    "y = 2*x\n",
    "X = np.zeros((N, 3))\n",
    "X[:,0] = x\n",
    "X[:,1] = x**2\n",
    "X[:,2] = x**3\n",
    "\n",
    "X_tensor = Variable(torch.FloatTensor(X), requires_grad=False)\n",
    "y_tensor = Variable(torch.FloatTensor(y), requires_grad=False)\n",
    "\n",
    "# Test set initialization\n",
    "X_test = np.zeros((3, 3))\n",
    "X_test[:,0] = np.array([-2.5, 0.0, 19])\n",
    "X_test[:,1] = X_test[:,0]**2\n",
    "X_test[:,2] = X_test[:,0]**3\n",
    "X_test_tsr = Variable(torch.FloatTensor(X_test), requires_grad=False)\n",
    "\n",
    "# Normalized features\n",
    "X_min = torch.min(X_tensor,0)\n",
    "X_max = torch.max(X_tensor,0)\n",
    "X_mean = torch.mean(X_tensor,0)\n",
    "X_sub_mean = X_tensor-X_mean.expand_as(X_tensor)\n",
    "X_max_min = X_max[0]-X_min[0] + 1e-7\n",
    "X_norm_tsr = X_sub_mean/X_max_min.expand_as(X_sub_mean)\n",
    "\n",
    "X_test_sub_mean = X_test_tsr-X_mean.expand_as(X_test_tsr)\n",
    "X_test_norm_tsr = X_test_sub_mean/X_max_min.expand_as(X_test_sub_mean)"
   ]
  },
  {
   "cell_type": "code",
   "execution_count": 663,
   "metadata": {},
   "outputs": [],
   "source": [
    "# A simple linear Neural Net which is y = w_1*x + w_2*x^2 + w_3*x^3 + b\n",
    "import math\n",
    "from time import time\n",
    "\n",
    "def RunLinearNNTraining(X, y, learning_rate=1e-5, epochs=5000, batch_size=None, X_test=None, \n",
    "                        use_optimizer=None, adam_betas=(0.9, 0.999)):\n",
    "    # Neural Net\n",
    "    X_size = X.size()\n",
    "    N = X_size[0]\n",
    "    D_in = X_size[1]\n",
    "    D_out = 1\n",
    "    model = torch.nn.Linear(D_in, D_out)\n",
    "    loss_fn = torch.nn.MSELoss(size_average=True)\n",
    "    \n",
    "    # Choose Optimizer\n",
    "    optimizer = None\n",
    "    if use_optimizer:\n",
    "        if use_optimizer == 'SGD':\n",
    "            optimizer = torch.optim.SGD(model.parameters(), lr=learning_rate)\n",
    "        elif use_optimizer == 'Adam':\n",
    "            optimizer = torch.optim.Adam(model.parameters(), lr=learning_rate, betas=adam_betas)\n",
    "        elif use_optimizer == 'Adadelta':\n",
    "            optimizer = torch.optim.Adadelta(model.parameters(), lr=learning_rate)\n",
    "        elif use_optimizer == 'ASGD':\n",
    "            optimizer = torch.optim.ASGD(model.parameters(), lr=learning_rate)\n",
    "        elif use_optimizer == 'RMSprop':\n",
    "            optimizer = torch.optim.RMSprop(model.parameters(), lr=learning_rate)\n",
    "        elif use_optimizer == 'Adagrad':\n",
    "            optimizer = torch.optim.Adagrad(model.parameters(), lr=learning_rate)\n",
    "        else:\n",
    "            print(\"Invalid Optimizer\")\n",
    "            use_optimizer=None\n",
    "    \n",
    "    losses = []\n",
    "    loss = None\n",
    "    start_time = time()\n",
    "    for t in range(epochs):\n",
    "        num_batches = 1\n",
    "        X_batch = None\n",
    "        y_batch = None\n",
    "        if batch_size:\n",
    "            num_batches = math.ceil(N/batch_size)\n",
    "        else:\n",
    "            batch_size = N\n",
    "        \n",
    "        shuffle = torch.randperm(N)\n",
    "        \n",
    "        for b in range(num_batches):\n",
    "            lower_index = b*batch_size\n",
    "            upper_index = min(lower_index+batch_size, N)\n",
    "            indices = shuffle[lower_index:upper_index]\n",
    "            X_batch = X[indices]\n",
    "            y_batch = y[indices]\n",
    "                        \n",
    "            y_pred = model(X_batch)\n",
    "            loss = loss_fn(y_pred, y_batch)\n",
    "            \n",
    "            if use_optimizer:\n",
    "                optimizer.zero_grad()\n",
    "                loss.backward()\n",
    "                optimizer.step()\n",
    "            else:\n",
    "                # Zero the gradients before running the backward pass.\n",
    "                model.zero_grad()\n",
    "                loss.backward()\n",
    "\n",
    "                # Update the weights using gradient descent. Each parameter is a Variable, so\n",
    "                # we can access its data and gradients like we did before.\n",
    "                for param in model.parameters():\n",
    "                    param.data -= learning_rate * param.grad.data\n",
    "        losses.append(loss.data[0])\n",
    "\n",
    "    end_time = time()\n",
    "    time_taken = end_time - start_time\n",
    "    print(\"Time Taken = %.2f seconds \" % time_taken)\n",
    "    print(\"Final Loss: \", loss.data[0])\n",
    "    print(\"Parameters [w_1, w_2, w_3, b]: \")\n",
    "    for param in model.parameters():\n",
    "        print(param.data[0])\n",
    "\n",
    "    # plot Loss vs Iterations\n",
    "    plt.plot(losses)\n",
    "    plt.title('Loss history')\n",
    "    plt.xlabel('Iteration')\n",
    "    plt.ylabel('Loss')\n",
    "    plt.show()\n",
    "    \n",
    "    # Predictions on Test set\n",
    "    if X_test:\n",
    "        print(\"Test:\")\n",
    "        print(\"X_test: \", X_test.data)\n",
    "        print(\"y_pred: \", model(X_test))"
   ]
  },
  {
   "cell_type": "markdown",
   "metadata": {},
   "source": [
    "## Full batch gradient descent with unnormalized features\n",
    "### SGD, ASGD, Adadelta and Adagrad:\n",
    "It doesn't converge to global optima and for some of them the learning rate has to be set very low if not the gradients explode. Ouch!\n",
    "\n",
    "### Adam and RMSprop:\n",
    "It needs a lot of epochs to converge close to global optima. The solution and loss is not good enough."
   ]
  },
  {
   "cell_type": "code",
   "execution_count": 628,
   "metadata": {},
   "outputs": [
    {
     "name": "stdout",
     "output_type": "stream",
     "text": [
      "Time Taken = 4.29 seconds \n",
      "Final Loss:  0.2224656343460083\n",
      "Parameters [w_1, w_2, w_3, b]: \n",
      "\n",
      " 1.9956e+00\n",
      "-1.8604e-04\n",
      " 1.4622e-06\n",
      "[torch.FloatTensor of size 3]\n",
      "\n",
      "0.7113398909568787\n"
     ]
    },
    {
     "data": {
      "image/png": "[encoded data removed]",
      "text/plain": [
       "<matplotlib.figure.Figure at 0x114a65d30>"
      ]
     },
     "metadata": {},
     "output_type": "display_data"
    },
    {
     "name": "stdout",
     "output_type": "stream",
     "text": [
      "Test:\n",
      "X_test:  \n",
      "   -2.5000     6.2500   -15.6250\n",
      "    0.0000     0.0000     0.0000\n",
      "   19.0000   361.0000  6859.0000\n",
      "[torch.FloatTensor of size 3x3]\n",
      "\n",
      "y_pred:  Variable containing:\n",
      " -4.2788\n",
      "  0.7113\n",
      " 38.5700\n",
      "[torch.FloatTensor of size 3x1]\n",
      "\n"
     ]
    }
   ],
   "source": [
    "# use_optimizer can be Adam, RMSprop, Adadelta, ASGD, SGD, Adagrad\n",
    "RunLinearNNTraining(X=X_tensor, y=y_tensor, batch_size=None, epochs=25000, learning_rate=1e-3, \n",
    "                    X_test=X_test_tsr, use_optimizer='Adam')"
   ]
  },
  {
   "cell_type": "markdown",
   "metadata": {},
   "source": [
    "## Full batch gradient descent with feature normalization\n",
    "Converges more smoothly and better. Needs higher learning_rate (like 100x) than unnormalized features. What else? Even SGD converges and its better than Adam!"
   ]
  },
  {
   "cell_type": "code",
   "execution_count": 612,
   "metadata": {},
   "outputs": [
    {
     "name": "stdout",
     "output_type": "stream",
     "text": [
      "Time Taken = 4.18 seconds \n",
      "Final Loss:  4.671108513321087e-07\n",
      "Parameters [w_1, w_2, w_3, b]: \n",
      "\n",
      " 3.4974e+02\n",
      "-6.0098e-04\n",
      "-6.0013e-04\n",
      "[torch.FloatTensor of size 3]\n",
      "\n",
      "18.699024200439453\n"
     ]
    },
    {
     "data": {
      "image/png": "[encoded data removed]",
      "text/plain": [
       "<matplotlib.figure.Figure at 0x114eab588>"
      ]
     },
     "metadata": {},
     "output_type": "display_data"
    },
    {
     "name": "stdout",
     "output_type": "stream",
     "text": [
      "Test:\n",
      "X_test:  \n",
      "-0.0678 -0.2538 -0.0544\n",
      "-0.0535 -0.2544 -0.0544\n",
      " 0.0552 -0.2182 -0.0496\n",
      "[torch.FloatTensor of size 3x3]\n",
      "\n",
      "y_pred:  Variable containing:\n",
      "-5.0001e+00\n",
      "-1.4114e-04\n",
      " 3.8000e+01\n",
      "[torch.FloatTensor of size 3x1]\n",
      "\n"
     ]
    }
   ],
   "source": [
    "# Using Adam Optimizer\n",
    "RunLinearNNTraining(X=X_norm_tsr, y=y_tensor, batch_size=None, epochs=25000, learning_rate=1e-1, \n",
    "                    X_test=X_test_norm_tsr, use_optimizer='Adam')"
   ]
  },
  {
   "cell_type": "code",
   "execution_count": 618,
   "metadata": {},
   "outputs": [
    {
     "name": "stdout",
     "output_type": "stream",
     "text": [
      "Time Taken = 3.77 seconds \n",
      "Final Loss:  4.048657729072147e-07\n",
      "Parameters [w_1, w_2, w_3, b]: \n",
      "\n",
      " 3.4973e+02\n",
      "-1.2106e-03\n",
      " 8.0428e-03\n",
      "[torch.FloatTensor of size 3]\n",
      "\n",
      "18.69938087463379\n"
     ]
    },
    {
     "data": {
      "image/png": "[encoded data removed]",
      "text/plain": [
       "<matplotlib.figure.Figure at 0x1157d3f98>"
      ]
     },
     "metadata": {},
     "output_type": "display_data"
    },
    {
     "name": "stdout",
     "output_type": "stream",
     "text": [
      "Test:\n",
      "X_test:  \n",
      "-0.0678 -0.2538 -0.0544\n",
      "-0.0535 -0.2544 -0.0544\n",
      " 0.0552 -0.2182 -0.0496\n",
      "[torch.FloatTensor of size 3x3]\n",
      "\n",
      "y_pred:  Variable containing:\n",
      "-4.9998e+00\n",
      " 1.5068e-04\n",
      " 3.8000e+01\n",
      "[torch.FloatTensor of size 3x1]\n",
      "\n"
     ]
    }
   ],
   "source": [
    "# Look SGD is faster than Adam now. It's curve is more steeper.\n",
    "RunLinearNNTraining(X=X_norm_tsr, y=y_tensor, batch_size=None, epochs=25000, learning_rate=1e-1, \n",
    "                    X_test=X_test_norm_tsr, use_optimizer='SGD')"
   ]
  },
  {
   "cell_type": "markdown",
   "metadata": {},
   "source": [
    "### Mini-Batch Gradient Descent with unnormalized features\n",
    "Requires much lesser #epochs because in each epoch we are doing more gradient updates due to mini-batches.\n",
    "It takes longer than Full-Batch Gradient Descent! Ouch! Results are comparable to Full-Batch Gradient Descent."
   ]
  },
  {
   "cell_type": "code",
   "execution_count": 623,
   "metadata": {},
   "outputs": [
    {
     "name": "stdout",
     "output_type": "stream",
     "text": [
      "Time Taken = 6.78 seconds \n",
      "Final Loss:  0.04502839222550392\n",
      "Parameters [w_1, w_2, w_3, b]: \n",
      "\n",
      " 2.0033e+00\n",
      "-2.5394e-05\n",
      " 6.0180e-07\n",
      "[torch.FloatTensor of size 3]\n",
      "\n",
      "0.1875441074371338\n"
     ]
    },
    {
     "data": {
      "image/png": "[encoded data removed]",
      "text/plain": [
       "<matplotlib.figure.Figure at 0x1157c6da0>"
      ]
     },
     "metadata": {},
     "output_type": "display_data"
    },
    {
     "name": "stdout",
     "output_type": "stream",
     "text": [
      "Test:\n",
      "X_test:  \n",
      "   -2.5000     6.2500   -15.6250\n",
      "    0.0000     0.0000     0.0000\n",
      "   19.0000   361.0000  6859.0000\n",
      "[torch.FloatTensor of size 3x3]\n",
      "\n",
      "y_pred:  Variable containing:\n",
      " -4.8209\n",
      "  0.1875\n",
      " 38.2452\n",
      "[torch.FloatTensor of size 3x1]\n",
      "\n"
     ]
    }
   ],
   "source": [
    "# SGD doesn't work with unnormalized features so using Adam.\n",
    "RunLinearNNTraining(X=X_tensor, y=y_tensor, batch_size=25, epochs=3000, learning_rate=1e-3, \n",
    "                    X_test=X_test_tsr, use_optimizer='Adam')"
   ]
  },
  {
   "cell_type": "markdown",
   "metadata": {},
   "source": [
    "### Mini-Batch Gradient Descent with normalized features\n",
    "Cool! normalization of features is better for convergence.\n",
    "It takes longer than Full-Batch Gradient Descent and results are comparable to Full-Batch Gradient Descent with normalized features."
   ]
  },
  {
   "cell_type": "code",
   "execution_count": 629,
   "metadata": {},
   "outputs": [
    {
     "name": "stdout",
     "output_type": "stream",
     "text": [
      "Time Taken = 6.35 seconds \n",
      "Final Loss:  8.189108768874576e-08\n",
      "Parameters [w_1, w_2, w_3, b]: \n",
      "\n",
      " 3.4974e+02\n",
      "-5.1438e-04\n",
      " 3.4505e-03\n",
      "[torch.FloatTensor of size 3]\n",
      "\n",
      "18.699392318725586\n"
     ]
    },
    {
     "data": {
      "image/png": "[encoded data removed]",
      "text/plain": [
       "<matplotlib.figure.Figure at 0x113bb0048>"
      ]
     },
     "metadata": {},
     "output_type": "display_data"
    },
    {
     "name": "stdout",
     "output_type": "stream",
     "text": [
      "Test:\n",
      "X_test:  \n",
      "-0.0678 -0.2538 -0.0544\n",
      "-0.0535 -0.2544 -0.0544\n",
      " 0.0552 -0.2182 -0.0496\n",
      "[torch.FloatTensor of size 3x3]\n",
      "\n",
      "y_pred:  Variable containing:\n",
      "-4.9999e+00\n",
      " 7.6294e-05\n",
      " 3.8000e+01\n",
      "[torch.FloatTensor of size 3x1]\n",
      "\n"
     ]
    }
   ],
   "source": [
    "# SGD is better than Adam in this case so using SGD\n",
    "RunLinearNNTraining(X=X_norm_tsr, y=y_tensor, batch_size=25, epochs=3000, learning_rate=1e-1, \n",
    "                    X_test=X_test_norm_tsr, use_optimizer='SGD')"
   ]
  },
  {
   "cell_type": "markdown",
   "metadata": {},
   "source": [
    "### Mini-Batch Gradient Descent with normalized features and batch_size = 1\n",
    "Its much faster and better than the previous approaches for this problem. Awesome!"
   ]
  },
  {
   "cell_type": "code",
   "execution_count": 636,
   "metadata": {},
   "outputs": [
    {
     "name": "stdout",
     "output_type": "stream",
     "text": [
      "Time Taken = 1.31 seconds \n",
      "Final Loss:  7.161030225688592e-06\n",
      "Parameters [w_1, w_2, w_3, b]: \n",
      "\n",
      " 349.6919\n",
      "  -0.0185\n",
      "   0.0851\n",
      "[torch.FloatTensor of size 3]\n",
      "\n",
      "18.701908111572266\n"
     ]
    },
    {
     "data": {
      "image/png": "[encoded data removed]",
      "text/plain": [
       "<matplotlib.figure.Figure at 0x115798128>"
      ]
     },
     "metadata": {},
     "output_type": "display_data"
    },
    {
     "name": "stdout",
     "output_type": "stream",
     "text": [
      "Test:\n",
      "X_test:  \n",
      "-0.0678 -0.2538 -0.0544\n",
      "-0.0535 -0.2544 -0.0544\n",
      " 0.0552 -0.2182 -0.0496\n",
      "[torch.FloatTensor of size 3x3]\n",
      "\n",
      "y_pred:  Variable containing:\n",
      " -4.9942\n",
      "  0.0051\n",
      " 37.9998\n",
      "[torch.FloatTensor of size 3x1]\n",
      "\n"
     ]
    }
   ],
   "source": [
    "# SGD is better than Adam in this case so using SGD\n",
    "RunLinearNNTraining(X=X_norm_tsr, y=y_tensor, batch_size=1, epochs=25, learning_rate=1e-1, \n",
    "                    X_test=X_test_norm_tsr, use_optimizer='SGD')"
   ]
  },
  {
   "cell_type": "markdown",
   "metadata": {},
   "source": [
    "### Mini-Batch Gradient Descent with UNnormalized features and batch_size = 1\n",
    "SGD doesn't converge and Adam performs bad. Well, worth a try."
   ]
  },
  {
   "cell_type": "code",
   "execution_count": 645,
   "metadata": {},
   "outputs": [
    {
     "name": "stdout",
     "output_type": "stream",
     "text": [
      "Time Taken = 8.41 seconds \n",
      "Final Loss:  21.661556243896484\n",
      "Parameters [w_1, w_2, w_3, b]: \n",
      "\n",
      " 1.6934e+00\n",
      "-2.8070e-03\n",
      " 6.3677e-05\n",
      "[torch.FloatTensor of size 3]\n",
      "\n",
      "-0.26881924271583557\n"
     ]
    },
    {
     "data": {
      "image/png": "[encoded data removed]",
      "text/plain": [
       "<matplotlib.figure.Figure at 0x114de7dd8>"
      ]
     },
     "metadata": {},
     "output_type": "display_data"
    },
    {
     "name": "stdout",
     "output_type": "stream",
     "text": [
      "Test:\n",
      "X_test:  \n",
      "   -2.5000     6.2500   -15.6250\n",
      "    0.0000     0.0000     0.0000\n",
      "   19.0000   361.0000  6859.0000\n",
      "[torch.FloatTensor of size 3x3]\n",
      "\n",
      "y_pred:  Variable containing:\n",
      " -4.5208\n",
      " -0.2688\n",
      " 31.3291\n",
      "[torch.FloatTensor of size 3x1]\n",
      "\n"
     ]
    }
   ],
   "source": [
    "RunLinearNNTraining(X=X_tensor, y=y_tensor, batch_size=1, epochs=150, learning_rate=1e-3, \n",
    "                    X_test=X_test_tsr, use_optimizer='Adam')"
   ]
  },
  {
   "cell_type": "markdown",
   "metadata": {},
   "source": [
    "### Can we get away not having to use normalized features and achieve good performance?\n",
    "We have seen till now that normalizing features, mini-batches of size 1 and SGD optimizer gave us one of the fastest and best convergences. Wouldn't it be cool if we don't have to normalize features? After all, we are trying to converge to a simple y = 2*x equation.\n",
    "\n",
    "The answer to why Adam and RMSprop optimizers work with unnormalized raw features is the factor ***1/sqrt(norm(gradients))*** which makes sure the gradients don't explode.\n",
    "\n",
    "If we want to use unnormalized features then it's best to use Adam optimizer and full batches for training."
   ]
  },
  {
   "cell_type": "code",
   "execution_count": 697,
   "metadata": {},
   "outputs": [
    {
     "name": "stdout",
     "output_type": "stream",
     "text": [
      "Time Taken = 4.13 seconds \n",
      "Final Loss:  0.9092176556587219\n",
      "Parameters [w_1, w_2, w_3, b]: \n",
      "\n",
      " 2.0000e+00\n",
      " 3.5566e-06\n",
      " 3.5570e-06\n",
      "[torch.FloatTensor of size 3]\n",
      "\n",
      "3.750398491320084e-06\n"
     ]
    },
    {
     "data": {
      "image/png": "[encoded data removed]",
      "text/plain": [
       "<matplotlib.figure.Figure at 0x114cda240>"
      ]
     },
     "metadata": {},
     "output_type": "display_data"
    },
    {
     "name": "stdout",
     "output_type": "stream",
     "text": [
      "Test:\n",
      "X_test:  \n",
      "   -2.5000     6.2500   -15.6250\n",
      "    0.0000     0.0000     0.0000\n",
      "   19.0000   361.0000  6859.0000\n",
      "[torch.FloatTensor of size 3x3]\n",
      "\n",
      "y_pred:  Variable containing:\n",
      "-5.0000e+00\n",
      " 3.7504e-06\n",
      " 3.8026e+01\n",
      "[torch.FloatTensor of size 3x1]\n",
      "\n"
     ]
    }
   ],
   "source": [
    "RunLinearNNTraining(X=X_tensor, y=y_tensor, batch_size=None, epochs=25000, learning_rate=1e-3, \n",
    "                    X_test=X_test_tsr, use_optimizer='Adam', adam_betas=(0.99, 0.999))"
   ]
  }
 ],
 "metadata": {
  "kernelspec": {
   "display_name": "Python 3",
   "language": "python",
   "name": "python3"
  },
  "language_info": {
   "codemirror_mode": {
    "name": "ipython",
    "version": 3
   },
   "file_extension": ".py",
   "mimetype": "text/x-python",
   "name": "python",
   "nbconvert_exporter": "python",
   "pygments_lexer": "ipython3",
   "version": "3.6.1"
  }
 },
 "nbformat": 4,
 "nbformat_minor": 2
}
