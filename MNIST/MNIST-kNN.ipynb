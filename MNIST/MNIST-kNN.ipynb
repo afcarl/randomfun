{
 "cells": [
  {
   "cell_type": "code",
   "execution_count": 1,
   "metadata": {
    "collapsed": true
   },
   "outputs": [],
   "source": [
    "import numpy as np\n",
    "from sklearn.datasets import fetch_mldata\n",
    "import pandas as pd\n",
    "%matplotlib notebook"
   ]
  },
  {
   "cell_type": "code",
   "execution_count": 2,
   "metadata": {
    "collapsed": true
   },
   "outputs": [],
   "source": [
    "mnist = fetch_mldata(\"MNIST original\")\n",
    "X_ = mnist.data / 255.0\n",
    "y_ = mnist.target"
   ]
  },
  {
   "cell_type": "code",
   "execution_count": 3,
   "metadata": {},
   "outputs": [
    {
     "name": "stdout",
     "output_type": "stream",
     "text": [
      "(70000, 784) (70000,)\n"
     ]
    }
   ],
   "source": [
    "print(X_.shape, y_.shape)"
   ]
  },
  {
   "cell_type": "code",
   "execution_count": 4,
   "metadata": {
    "collapsed": true
   },
   "outputs": [],
   "source": [
    "rndperm = np.random.permutation(X_.shape[0])"
   ]
  },
  {
   "cell_type": "code",
   "execution_count": 5,
   "metadata": {},
   "outputs": [
    {
     "name": "stdout",
     "output_type": "stream",
     "text": [
      "Train:  (49000, 784)   (49000, 1)\n",
      "Cross-Validation:  (10500, 784)   (10500, 1)\n",
      "Test:  (10500, 784)   (10500, 1)\n"
     ]
    }
   ],
   "source": [
    "N_ = X_.shape[0]\n",
    "X_train = X_[rndperm][:int(0.7*N_)]\n",
    "y_train = y_[rndperm][:int(0.7*N_)].reshape(-1,1)\n",
    "\n",
    "X_cv = X_[rndperm][int(0.7*N_):int(0.85*N_)]\n",
    "y_cv = y_[rndperm][int(0.7*N_):int(0.85*N_)].reshape(-1,1)\n",
    "\n",
    "X_test = X_[rndperm][int(0.85*N_):N_]\n",
    "y_test = y_[rndperm][int(0.85*N_):N_].reshape(-1,1)\n",
    "\n",
    "print(\"Train: \", np.shape(X_train), \" \", np.shape(y_train))\n",
    "print(\"Cross-Validation: \", np.shape(X_cv), \" \", np.shape(y_cv))\n",
    "print(\"Test: \", np.shape(X_test), \" \", np.shape(y_test))"
   ]
  },
  {
   "cell_type": "code",
   "execution_count": 6,
   "metadata": {},
   "outputs": [
    {
     "data": {
      "text/plain": [
       "<matplotlib.figure.Figure at 0x10160ee48>"
      ]
     },
     "metadata": {},
     "output_type": "display_data"
    },
    {
     "data": {
      "image/png": "[encoded data removed]",
      "text/plain": [
       "<matplotlib.figure.Figure at 0x10711e4a8>"
      ]
     },
     "metadata": {},
     "output_type": "display_data"
    }
   ],
   "source": [
    "import matplotlib.pyplot as plt\n",
    "%matplotlib inline\n",
    "# Plot the graph\n",
    "plt.gray()\n",
    "fig = plt.figure( figsize=(16,7) )\n",
    "for i in range(0,30):\n",
    "    ax = fig.add_subplot(3,10,i+1)\n",
    "    ax.matshow(X_train[i].reshape((28,28)).astype(float))\n",
    "    ax.axis(\"off\")\n",
    "plt.show()"
   ]
  },
  {
   "cell_type": "code",
   "execution_count": 11,
   "metadata": {
    "collapsed": true
   },
   "outputs": [],
   "source": [
    "from scipy import stats\n",
    "class kNNModel:\n",
    "    def __init__(self, X, y, k=5):\n",
    "        self.k = k\n",
    "        self.X = X\n",
    "        self.y = y\n",
    "        \n",
    "    def distanceMatrix(self, T):\n",
    "        M, _ = np.shape(self.X)\n",
    "        L, _ = np.shape(T)\n",
    "        X2 = np.sum(self.X**2, axis=1).reshape(-1,1)\n",
    "        T2 = np.sum(T**2, axis=1).reshape(-1,1)\n",
    "        TX = T.dot(self.X.T)\n",
    "        dm = T2 - 2*TX + X2.T\n",
    "        return dm\n",
    "    \n",
    "    def predict(self, T, dm=None, k=None):\n",
    "        if dm is None:\n",
    "            dm = self.distanceMatrix(T)\n",
    "        if k is None:\n",
    "            k = self.k\n",
    "        indices = np.argsort(dm, axis=1)[:,:k]\n",
    "        return stats.mode(self.y[indices], axis=1).mode.reshape(-1,1)\n",
    "    \n",
    "    def accuracy(self, T, l, dm=None, k=None):\n",
    "        p = self.predict(T, dm, k)\n",
    "        return np.mean(p==l)"
   ]
  },
  {
   "cell_type": "code",
   "execution_count": 18,
   "metadata": {},
   "outputs": [
    {
     "name": "stdout",
     "output_type": "stream",
     "text": [
      "1.0\n"
     ]
    }
   ],
   "source": [
    "model = kNNModel(X_train, y_train, 6)\n",
    "accu = model.accuracy(X_cv[:5], y_cv[:5], None, 2)\n",
    "print(accu)"
   ]
  },
  {
   "cell_type": "code",
   "execution_count": 20,
   "metadata": {},
   "outputs": [
    {
     "name": "stdout",
     "output_type": "stream",
     "text": [
      "k = 1\n",
      "k = 2\n",
      "k = 3\n",
      "k = 4\n",
      "k = 5\n",
      "k = 6\n",
      "k = 7\n",
      "k = 8\n",
      "k = 9\n",
      "[0.96399999999999997, 0.96699999999999997, 0.97099999999999997, 0.97099999999999997, 0.97099999999999997, 0.96999999999999997, 0.96799999999999997, 0.96799999999999997, 0.96499999999999997]\n"
     ]
    }
   ],
   "source": [
    "accuL = []\n",
    "Ks = list(range(1,10))\n",
    "dm = model.distanceMatrix(X_cv[:1000])\n",
    "for k in Ks:\n",
    "    print(\"k =\", k)\n",
    "    accu = model.accuracy(X_cv[:1000], y_cv[:1000], dm, k)\n",
    "    accuL.append(accu)\n",
    "print(accuL)"
   ]
  },
  {
   "cell_type": "code",
   "execution_count": 21,
   "metadata": {},
   "outputs": [
    {
     "data": {
      "image/png": "[encoded data removed]",
      "text/plain": [
       "<matplotlib.figure.Figure at 0x173c6eba8>"
      ]
     },
     "metadata": {},
     "output_type": "display_data"
    }
   ],
   "source": [
    "%matplotlib inline\n",
    "plt.plot(Ks, accuL)\n",
    "plt.show()"
   ]
  }
 ],
 "metadata": {
  "kernelspec": {
   "display_name": "Python 3",
   "language": "python",
   "name": "python3"
  },
  "language_info": {
   "codemirror_mode": {
    "name": "ipython",
    "version": 3
   },
   "file_extension": ".py",
   "mimetype": "text/x-python",
   "name": "python",
   "nbconvert_exporter": "python",
   "pygments_lexer": "ipython3",
   "version": "3.6.1"
  }
 },
 "nbformat": 4,
 "nbformat_minor": 2
}
