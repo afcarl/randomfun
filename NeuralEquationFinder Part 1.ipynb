{
 "cells": [
  {
   "cell_type": "code",
   "execution_count": 195,
   "metadata": {},
   "outputs": [],
   "source": [
    "import torch\n",
    "from torch.autograd import Variable\n",
    "from torch.autograd import gradcheck\n",
    "import numpy as np\n",
    "import matplotlib.pyplot as plt\n",
    "\n",
    "%matplotlib inline"
   ]
  },
  {
   "cell_type": "markdown",
   "metadata": {},
   "source": [
    "# Introduction\n",
    "\n",
    "Let's say y = f(x_1, x_2, ..., x_n)\n",
    "If f is a mathematical function of x_1, x_2, x_3, ..., x_n then we can wire up a neural network to try to find this function given some examples of (x_1, x_2, ...., x_n, y) "
   ]
  },
  {
   "cell_type": "markdown",
   "metadata": {},
   "source": [
    "# 1st: Normal Equation Method"
   ]
  },
  {
   "cell_type": "code",
   "execution_count": 323,
   "metadata": {},
   "outputs": [
    {
     "name": "stdout",
     "output_type": "stream",
     "text": [
      "W :  [ -1.49279111e-14   2.00000000e+00   2.43350714e-15  -1.04209881e-16]\n",
      "Predicted Y :  [  0.2   2.    4.    6.   -8.   50. ]\n",
      "RMS loss :  1.1242258769e-14\n"
     ]
    }
   ],
   "source": [
    "# Let's try to find the equation y = 2 * x \n",
    "# We have 6 examples:- (x,y) = (0.1,0.2), (1,2), (2, 4), (3, 6), (-4, -8), (25, 50)\n",
    "# Let's assume y is a linear combination of the features x, x^2, x^3\n",
    "# We know that Normal Equation gives us the exact solution so let's first use that\n",
    "\n",
    "N = 6\n",
    "x = np.array([0.1, 1, 2, 3, -4, 25])\n",
    "y = np.array([0.2, 2, 4, 6, -8, 50])\n",
    "x_2 = x**2\n",
    "x_3 = x**3\n",
    "\n",
    "X = np.ones((N, 4))\n",
    "X[:,1] = x\n",
    "X[:,2] = x_2\n",
    "X[:,3] = x_3\n",
    "\n",
    "_, D = np.shape(X)\n",
    "regularization_strength = 0.0\n",
    "XtX = (X.T).dot(X)\n",
    "I = np.eye(D, dtype=float)\n",
    "XtX_RI = XtX + regularization_strength*I\n",
    "XtY = (X.T).dot(y)\n",
    "w = np.linalg.solve(XtX_RI, XtY)\n",
    "y_pred = X.dot(w)\n",
    "loss = np.sqrt(np.mean((y_pred-y)**2))\n",
    "# As expected w ~ [0 2 0 0]\n",
    "print(\"W : \", w)\n",
    "print(\"Predicted Y : \", y_pred)\n",
    "print(\"RMS loss : \", loss)"
   ]
  },
  {
   "cell_type": "markdown",
   "metadata": {},
   "source": [
    "# 2nd: Neural Network Approach"
   ]
  },
  {
   "cell_type": "code",
   "execution_count": 453,
   "metadata": {},
   "outputs": [],
   "source": [
    "# Setup the training and test tensors\n",
    "# Let's generate 400 examples\n",
    "N = 400\n",
    "x = np.random.uniform(low=-75, high=100, size=N)\n",
    "y = 2*x\n",
    "X = np.zeros((N, 3))\n",
    "X[:,0] = x\n",
    "X[:,1] = x**2\n",
    "X[:,2] = x**3\n",
    "\n",
    "X_tensor = Variable(torch.FloatTensor(X), requires_grad=False)\n",
    "y_tensor = Variable(torch.FloatTensor(y), requires_grad=False)\n",
    "\n",
    "# Test set initialization\n",
    "X_test = np.zeros((3, 3))\n",
    "X_test[:,0] = np.array([-2.5, 0.0, 19])\n",
    "X_test[:,1] = X_test[:,0]**2\n",
    "X_test[:,2] = X_test[:,0]**3\n",
    "X_test_tsr = Variable(torch.FloatTensor(X_test), requires_grad=False)"
   ]
  },
  {
   "cell_type": "code",
   "execution_count": 500,
   "metadata": {},
   "outputs": [],
   "source": [
    "# A simple linear Neural Net which is y = w_1*x + w_2*x^2 + w_3*x^3 + b\n",
    "import math\n",
    "\n",
    "def RunLinearNNTraining(X, y, learning_rate=1e-5, epochs=5000, batch_size=None, X_test=None, use_optimizer=None):\n",
    "    \n",
    "    # Neural Net\n",
    "    X_size = X.size()\n",
    "    N = X_size[0]\n",
    "    D_in = X_size[1]\n",
    "    D_out = 1\n",
    "    model = torch.nn.Linear(D_in, D_out)\n",
    "    loss_fn = torch.nn.MSELoss(size_average=True)\n",
    "    \n",
    "    # Choose Optimizer\n",
    "    optimizer = None\n",
    "    if use_optimizer:\n",
    "        if use_optimizer == 'SGD':\n",
    "            optimizer = torch.optim.SGD(model.parameters(), lr=learning_rate)\n",
    "        elif use_optimizer == 'Adam':\n",
    "            optimizer = torch.optim.Adam(model.parameters(), lr=learning_rate)\n",
    "        elif use_optimizer == 'Adadelta':\n",
    "            optimizer = torch.optim.Adadelta(model.parameters(), lr=learning_rate)\n",
    "        elif use_optimizer == 'ASGD':\n",
    "            optimizer = torch.optim.ASGD(model.parameters(), lr=learning_rate)\n",
    "        elif use_optimizer == 'RMSprop':\n",
    "            optimizer = torch.optim.RMSprop(model.parameters(), lr=learning_rate)\n",
    "        else:\n",
    "            print(\"Invalid Optimizer\")\n",
    "            use_optimizer=None\n",
    "    \n",
    "    losses = []\n",
    "    loss = None\n",
    "    for t in range(epochs):\n",
    "        num_batches = 1\n",
    "        X_batch = None\n",
    "        y_batch = None\n",
    "        if batch_size:\n",
    "            num_batches = math.ceil(N/batch_size)\n",
    "        else:\n",
    "            batch_size = N\n",
    "        \n",
    "        shuffle = torch.randperm(N)\n",
    "        \n",
    "        for b in range(num_batches):\n",
    "            lower_index = b*batch_size\n",
    "            upper_index = min(lower_index+batch_size, N)\n",
    "            indices = shuffle[lower_index:upper_index]\n",
    "            X_batch = X[indices]\n",
    "            y_batch = y[indices]\n",
    "                        \n",
    "            y_pred = model(X_batch)\n",
    "            loss = loss_fn(y_pred, y_batch)\n",
    "            losses.append(loss.data[0])\n",
    "            \n",
    "            if use_optimizer:\n",
    "                optimizer.zero_grad()\n",
    "                loss.backward()\n",
    "                optimizer.step()\n",
    "            else:\n",
    "                # Zero the gradients before running the backward pass.\n",
    "                model.zero_grad()\n",
    "                loss.backward()\n",
    "\n",
    "                # Update the weights using gradient descent. Each parameter is a Variable, so\n",
    "                # we can access its data and gradients like we did before.\n",
    "                for param in model.parameters():\n",
    "                    param.data -= learning_rate * param.grad.data\n",
    "\n",
    "    print(\"Final Loss: \", loss.data[0])\n",
    "    print(\"Parameters [w_1, w_2, w_3, b]: \")\n",
    "    for param in model.parameters():\n",
    "        print(param.data[0])\n",
    "\n",
    "    # plot Loss vs Iterations\n",
    "    plt.plot(losses)\n",
    "    plt.title('Loss history')\n",
    "    plt.xlabel('Iteration')\n",
    "    plt.ylabel('Loss')\n",
    "    plt.show()\n",
    "    \n",
    "    # Predictions on Test set\n",
    "    if X_test:\n",
    "        print(\"Test:\")\n",
    "        print(\"X_test: \", X_test.data)\n",
    "        print(\"y_pred: \", model(X_test))"
   ]
  },
  {
   "cell_type": "markdown",
   "metadata": {},
   "source": [
    "## Full batch gradient descent\n",
    "### SGD:\n",
    "It doesn't converge to global optima and the learning rate has to be set very low if not the gradients explode.\n",
    "### Adam and RMSprop:\n",
    "It needs a lot of epochs to converge close to global optima."
   ]
  },
  {
   "cell_type": "code",
   "execution_count": 515,
   "metadata": {},
   "outputs": [
    {
     "name": "stdout",
     "output_type": "stream",
     "text": [
      "Final Loss:  0.014629274606704712\n",
      "Parameters [w_1, w_2, w_3, b]: \n",
      "\n",
      " 1.9988e+00\n",
      "-5.3303e-05\n",
      " 4.9020e-07\n",
      "[torch.FloatTensor of size 3]\n",
      "\n",
      "0.18852441012859344\n"
     ]
    },
    {
     "data": {
      "image/png": "[encoded data removed]",
      "text/plain": [
       "<matplotlib.figure.Figure at 0x113c16f98>"
      ]
     },
     "metadata": {},
     "output_type": "display_data"
    },
    {
     "name": "stdout",
     "output_type": "stream",
     "text": [
      "Test:\n",
      "X_test:  \n",
      "   -2.5000     6.2500   -15.6250\n",
      "    0.0000     0.0000     0.0000\n",
      "   19.0000   361.0000  6859.0000\n",
      "[torch.FloatTensor of size 3x3]\n",
      "\n",
      "y_pred:  Variable containing:\n",
      " -4.8088\n",
      "  0.1885\n",
      " 38.1494\n",
      "[torch.FloatTensor of size 3x1]\n",
      "\n"
     ]
    }
   ],
   "source": [
    "# use_optimizer can be Adam, RMSprop, Adadelta, ASGD, SGD\n",
    "RunLinearNNTraining(X=X_tensor, y=y_tensor, batch_size=None, epochs=20000, learning_rate=1e-2, \n",
    "                    X_test=X_test_tsr, use_optimizer='Adam')"
   ]
  },
  {
   "cell_type": "markdown",
   "metadata": {},
   "source": [
    "## Full batch gradient descent with feature normalization"
   ]
  },
  {
   "cell_type": "code",
   "execution_count": null,
   "metadata": {
    "collapsed": true
   },
   "outputs": [],
   "source": []
  },
  {
   "cell_type": "code",
   "execution_count": 298,
   "metadata": {},
   "outputs": [
    {
     "name": "stdout",
     "output_type": "stream",
     "text": [
      "Variable containing:\n",
      " 2599.5002   109.1683     4.5167\n",
      "[torch.FloatTensor of size 1x3]\n",
      "\n",
      "Variable containing:\n",
      " 15689.0000    624.9900     29.0000\n",
      "[torch.FloatTensor of size 1x3]\n",
      "\n",
      "Variable containing:\n",
      "-0.1657 -0.1747 -0.1523\n",
      "-0.1656 -0.1731 -0.1213\n",
      "-0.1652 -0.1683 -0.0868\n",
      "-0.1640 -0.1603 -0.0523\n",
      "-0.1698 -0.1491 -0.2937\n",
      " 0.8302  0.8253  0.7063\n",
      "[torch.FloatTensor of size 6x3]\n",
      "\n",
      "Variable containing:\n",
      " -0.3033\n",
      " -0.3688\n",
      " -1.1180\n",
      " -2.4675\n",
      " -9.6742\n",
      " 50.0109\n",
      "[torch.FloatTensor of size 6x1]\n",
      "\n",
      "Final Loss:  17.759979248046875\n",
      "\n",
      " 0.0193 -0.4158  0.3632\n",
      "[torch.FloatTensor of size 1x3]\n",
      "\n",
      "\n",
      "-0.3355\n",
      "[torch.FloatTensor of size 1]\n",
      "\n"
     ]
    },
    {
     "data": {
      "image/png": "[encoded data removed]",
      "text/plain": [
       "<matplotlib.figure.Figure at 0x1148902b0>"
      ]
     },
     "metadata": {},
     "output_type": "display_data"
    }
   ],
   "source": [
    "# Let's try to find the equation y = 2 * x\n",
    "# We have 7 examples:- (x,y) = (0.1,0.2), (1,2), (2, 4), (3, 6), (-4, -8), (2.5, 5.0), (0, 0), (-2.5, -5.0)\n",
    "N = 6\n",
    "D_in = 1\n",
    "D_out = 1\n",
    "X_tensor = Variable(torch.FloatTensor(x), requires_grad=False)\n",
    "x = Variable(torch.FloatTensor([0.1, 1, 2, 3, -4, 25]), requires_grad=False).view(N,D_in)\n",
    "y = Variable(torch.FloatTensor([0.2, 2, 4, 6, -8, 50]), requires_grad=False).view(N,D_in)\n",
    "x_test = torch.FloatTensor([2.5, 0, -2.5]).view(-1,1)\n",
    "y_test = torch.FloatTensor([5, 0, -5]).view(-1,1)\n",
    "\n",
    "x_3 = torch.pow(x,3)\n",
    "x_2 = torch.pow(x,2)\n",
    "X = torch.cat([x_3, x_2, x], 1)\n",
    "X_min = torch.min(X,0)\n",
    "X_max = torch.max(X,0)\n",
    "X_mean = torch.mean(X,0)\n",
    "X_sub_mean = X-X_mean.expand_as(X)\n",
    "X_max_sub_min = X_max[0]-X_min[0] + 1e-7\n",
    "print(X_mean)\n",
    "print(X_max_sub_min)\n",
    "X_transformed = X_sub_mean/X_max_sub_min.expand_as(X_sub_mean)\n",
    "print(X_transformed)\n",
    "D_in = 3\n",
    "\n",
    "# Let's assume, y = w_1*x^3 + w_2*x^2 + w_3*x + b\n",
    "model = torch.nn.Linear(D_in, D_out)\n",
    "loss_fn = torch.nn.MSELoss(size_average=True)\n",
    "l1 = torch.nn.L1Loss(size_average=True)\n",
    "learning_rate = 1e-8\n",
    "regularization_strength = 0.01\n",
    "losses = []\n",
    "y_pred = None\n",
    "loss = None\n",
    "#optimizer = torch.optim.Adam(model.parameters(), lr=learning_rate)\n",
    "for t in range(100000):\n",
    "    y_pred = model(X)\n",
    "\n",
    "    loss = loss_fn(y_pred, y)\n",
    "    reg_loss = 0\n",
    "    for param in model.parameters():\n",
    "        size= param.size()\n",
    "        reg_loss += l1(param, Variable(torch.zeros(size), requires_grad=False))\n",
    "    #loss += regularization_strength * reg_loss\n",
    "    #print(t, loss.data[0])\n",
    "    losses.append(loss.data[0])\n",
    "\n",
    "    # Zero the gradients before running the backward pass.\n",
    "    model.zero_grad()\n",
    "    #optimizer.zero_grad()\n",
    "\n",
    "    loss.backward()\n",
    "\n",
    "    # Update the weights using gradient descent. Each parameter is a Variable, so\n",
    "    # we can access its data and gradients like we did before.\n",
    "    #optimizer.step()\n",
    "    for param in model.parameters():\n",
    "        #print(param.grad.data)\n",
    "        param.data -= learning_rate * param.grad.data\n",
    "\n",
    "print(y_pred)\n",
    "print(\"Final Loss: \", loss.data[0])\n",
    "for param in model.parameters():\n",
    "    print(param.data)\n",
    "\n",
    "plt.plot(losses)\n",
    "plt.title('Loss history')\n",
    "plt.xlabel('Iteration')\n",
    "plt.ylabel('Loss')\n",
    "plt.show()\n",
    "\n",
    "# w = [0 0 58], b = 9.0334"
   ]
  },
  {
   "cell_type": "code",
   "execution_count": null,
   "metadata": {
    "collapsed": true
   },
   "outputs": [],
   "source": [
    "reg = 0.1\n",
    "lr = 1e-5\n",
    "w = Variable(torch.randn(3), requires_grad=True)\n",
    "b = Variable(torch.zeros(1), requires_grad=True)\n",
    "x_3 = torch.pow(x,3)\n",
    "x_2 = torch.pow(x,2)\n",
    "X = torch.cat([x_3, x_2, x], 1)\n",
    "print(X)\n",
    "losses = []\n",
    "# Use autograd to compute the backward pass.\n",
    "for i in range(10000):\n",
    "    WX = X.mm(w.view(3,1))\n",
    "    output = WX + b.expand_as(WX)\n",
    "    loss = (y-output).pow(2).mean().sqrt() + torch.abs(w).sum()\n",
    "    losses.append(loss.data[0])\n",
    "    #print(\"Iteration \", i, \" : \", loss.data)\n",
    "    \n",
    "    loss.backward(retain_variables=True)\n",
    "    # Update weights using gradient descent\n",
    "    #print(w)\n",
    "    #print(output)\n",
    "    #print(w.grad.data)\n",
    "    #print(b.grad.data)\n",
    "    w.data -= lr * w.grad.data\n",
    "    b.data -= lr * b.grad.data\n",
    "\n",
    "    # Manually zero the gradients after updating weights\n",
    "    w.grad.data.zero_()\n",
    "    b.grad.data.zero_()\n",
    "    \n",
    "print(w)\n",
    "print(b)\n",
    "WX = X.mm(w.view(3,1))\n",
    "output = WX + b.expand_as(WX)\n",
    "loss = (y-output).pow(2).mean().sqrt() + torch.abs(w).sum()\n",
    "print(output)\n",
    "print(loss)\n",
    "plt.plot(losses)\n",
    "plt.title('Loss history')\n",
    "plt.xlabel('Iteration')\n",
    "plt.ylabel('Loss')\n",
    "plt.show()"
   ]
  }
 ],
 "metadata": {
  "kernelspec": {
   "display_name": "Python 3",
   "language": "python",
   "name": "python3"
  },
  "language_info": {
   "codemirror_mode": {
    "name": "ipython",
    "version": 3
   },
   "file_extension": ".py",
   "mimetype": "text/x-python",
   "name": "python",
   "nbconvert_exporter": "python",
   "pygments_lexer": "ipython3",
   "version": "3.6.1"
  }
 },
 "nbformat": 4,
 "nbformat_minor": 2
}
